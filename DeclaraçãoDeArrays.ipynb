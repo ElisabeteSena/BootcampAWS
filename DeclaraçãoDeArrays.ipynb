{
  "nbformat": 4,
  "nbformat_minor": 0,
  "metadata": {
    "colab": {
      "provenance": [],
      "authorship_tag": "ABX9TyOM2GuSaNP64bCpxeeBAmx/",
      "include_colab_link": true
    },
    "kernelspec": {
      "name": "python3",
      "display_name": "Python 3"
    },
    "language_info": {
      "name": "python"
    }
  },
  "cells": [
    {
      "cell_type": "markdown",
      "metadata": {
        "id": "view-in-github",
        "colab_type": "text"
      },
      "source": [
        "<a href=\"https://colab.research.google.com/github/ElisabeteSena/BootcampAWS/blob/main/Declara%C3%A7%C3%A3oDeArrays.ipynb\" target=\"_parent\"><img src=\"https://colab.research.google.com/assets/colab-badge.svg\" alt=\"Open In Colab\"/></a>"
      ]
    },
    {
      "cell_type": "markdown",
      "source": [
        "Declare dois arrays, cada um com um mínimo de cinco elementos, e imprima eles no terminal usando o comando print(). O primeiro array deve conter os produtos de uma loja da sua escolha (loja de comida, materiais de construção, música, etc). O segundo array deve conter os anos de nascimento de familiares e amigos seus. Lembre-se de usar nomes descritivos para nomear cada variável, e de usar o tipo de dado apropriado para cada lista (strings, booleanos, números inteiros, floats)."
      ],
      "metadata": {
        "id": "uJQBrTG435_N"
      }
    },
    {
      "cell_type": "code",
      "execution_count": 7,
      "metadata": {
        "colab": {
          "base_uri": "https://localhost:8080/"
        },
        "id": "G3Vxv2YC3rUF",
        "outputId": "3c9b5e1e-c0b9-429c-b86c-fad518a2b477"
      },
      "outputs": [
        {
          "output_type": "stream",
          "name": "stdout",
          "text": [
            "['óleo', 'sal', 'café', 'açucar', 'arroz']\n"
          ]
        }
      ],
      "source": [
        "#Loja comida\n",
        "Lista_comida = ['óleo', 'sal', 'café', 'açucar', 'arroz']\n",
        "print(Lista_comida)"
      ]
    },
    {
      "cell_type": "code",
      "source": [
        "# Anos nascimento familiares amigo\n",
        "lista_nome_data_nascimento = ['Mãe', 1945, 'Amiga', 1998, 'filha Anna', 1980, 'Avó', 1937, 'Pai', 1943 ]\n",
        "print(lista_nome_data_nascimento)"
      ],
      "metadata": {
        "colab": {
          "base_uri": "https://localhost:8080/"
        },
        "id": "ZME1jFtC_HTV",
        "outputId": "efb7f1b1-3609-4b79-df13-4515eb7bcd43"
      },
      "execution_count": 10,
      "outputs": [
        {
          "output_type": "stream",
          "name": "stdout",
          "text": [
            "['Mãe', 1945, 'Amiga', 1998, 'filha Anna', 1980, 'Avó', 1937, 'Pai', 1943]\n"
          ]
        }
      ]
    }
  ]
}