{
  "nbformat": 4,
  "nbformat_minor": 0,
  "metadata": {
    "colab": {
      "provenance": [],
      "authorship_tag": "ABX9TyPQPsh7VNWlbcA+n5eZ3VJb",
      "include_colab_link": true
    },
    "kernelspec": {
      "name": "python3",
      "display_name": "Python 3"
    },
    "language_info": {
      "name": "python"
    }
  },
  "cells": [
    {
      "cell_type": "markdown",
      "metadata": {
        "id": "view-in-github",
        "colab_type": "text"
      },
      "source": [
        "<a href=\"https://colab.research.google.com/github/ElisabeteSena/BootcampAWS/blob/main/teste.ipynb\" target=\"_parent\"><img src=\"https://colab.research.google.com/assets/colab-badge.svg\" alt=\"Open In Colab\"/></a>"
      ]
    },
    {
      "cell_type": "code",
      "source": [
        "var = 6\n",
        "print(\"Esta é a primeira aparição da variável\")\n",
        "print(var)\n",
        "print(\"Esta é a segunda aparição da variável\")\n",
        "print(var)\n",
        "print(\"Esta é a terceira aparição da variável\")\n",
        "print(var)\n",
        "print(\"Esta é a quarta aparição da variável\")\n",
        "print(var)\n",
        "print(\"E você só definiu o valor uma única vez\")"
      ],
      "metadata": {
        "colab": {
          "base_uri": "https://localhost:8080/"
        },
        "id": "voILDY4dDP8i",
        "outputId": "ad31d3d8-f766-4ae2-ad6e-c6220ce8119c"
      },
      "execution_count": 3,
      "outputs": [
        {
          "output_type": "stream",
          "name": "stdout",
          "text": [
            "Esta é a primeira aparição da variável\n",
            "6\n",
            "Esta é a segunda aparição da variável\n",
            "6\n",
            "Esta é a terceira aparição da variável\n",
            "6\n",
            "Esta é a quarta aparição da variável\n",
            "6\n",
            "E você só definiu o valor uma única vez\n"
          ]
        }
      ]
    }
  ]
}