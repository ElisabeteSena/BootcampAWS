{
  "nbformat": 4,
  "nbformat_minor": 0,
  "metadata": {
    "colab": {
      "provenance": [],
      "authorship_tag": "ABX9TyMqilUevLD5nVBhd639dsaG",
      "include_colab_link": true
    },
    "kernelspec": {
      "name": "python3",
      "display_name": "Python 3"
    },
    "language_info": {
      "name": "python"
    }
  },
  "cells": [
    {
      "cell_type": "markdown",
      "metadata": {
        "id": "view-in-github",
        "colab_type": "text"
      },
      "source": [
        "<a href=\"https://colab.research.google.com/github/ElisabeteSena/BootcampAWS/blob/main/hello_e_exemplo_de_codpy.ipynb\" target=\"_parent\"><img src=\"https://colab.research.google.com/assets/colab-badge.svg\" alt=\"Open In Colab\"/></a>"
      ]
    },
    {
      "cell_type": "code",
      "source": [
        "print(\"hello word\")"
      ],
      "metadata": {
        "colab": {
          "base_uri": "https://localhost:8080/"
        },
        "id": "TjWt9IkRVoGd",
        "outputId": "3c1bb57c-90a9-4d59-c2aa-8381b4929fc0"
      },
      "execution_count": null,
      "outputs": [
        {
          "output_type": "stream",
          "name": "stdout",
          "text": [
            "hello word\n"
          ]
        }
      ]
    },
    {
      "cell_type": "code",
      "source": [
        "numero_inteiro = 5\n",
        "numero_float = 5.7\n",
        "texto = \"este é um texto\"\n",
        "booleano =  False\n",
        "\n",
        "print(\"este é um tipo\")\n",
        "print(type(numero_inteiro))\n",
        "print(\"este é um tipo\")\n",
        "print(type(numero_float))\n",
        "print(\"este é um tipo\")\n",
        "print(type(texto))\n",
        "print(\"este é um tipo\")\n",
        "print(type(booleano))\n",
        "\n",
        "\n",
        "\n"
      ],
      "metadata": {
        "colab": {
          "base_uri": "https://localhost:8080/"
        },
        "id": "0nCHAbQF-2h2",
        "outputId": "fcc99d50-7be1-417b-e097-68bf7c746811"
      },
      "execution_count": 2,
      "outputs": [
        {
          "output_type": "stream",
          "name": "stdout",
          "text": [
            "este é um tipo\n",
            "<class 'int'>\n",
            "este é um tipo\n",
            "<class 'float'>\n",
            "este é um tipo\n",
            "<class 'str'>\n",
            "este é um tipo\n",
            "<class 'bool'>\n"
          ]
        }
      ]
    }
  ]
}